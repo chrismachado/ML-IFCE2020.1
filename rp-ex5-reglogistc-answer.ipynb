{
 "cells": [
  {
   "cell_type": "markdown",
   "metadata": {},
   "source": [
    "# Importando elementos importantes"
   ]
  },
  {
   "cell_type": "code",
   "execution_count": 1,
   "metadata": {},
   "outputs": [],
   "source": [
    "import torch\n",
    "import matplotlib.pyplot as plt\n",
    "import itertools\n",
    "\n",
    "from mlxtend.data import loadlocal_mnist\n",
    "from nn.regression import LogisticRegression"
   ]
  },
  {
   "cell_type": "markdown",
   "metadata": {},
   "source": [
    "# Carregando dataset"
   ]
  },
  {
   "cell_type": "code",
   "execution_count": 2,
   "metadata": {},
   "outputs": [],
   "source": [
    "x_train, y_train = loadlocal_mnist(\n",
    "                    images_path='data/mnist/train/train-images-idx3-ubyte',\n",
    "                    labels_path='data/mnist/train/train-labels-idx1-ubyte')\n",
    "\n",
    "x_test, y_test = loadlocal_mnist(\n",
    "                    images_path='data/mnist/test/t10k-images-idx3-ubyte',\n",
    "                    labels_path='data/mnist/test/t10k-labels-idx1-ubyte')"
   ]
  },
  {
   "cell_type": "markdown",
   "metadata": {},
   "source": [
    "# Escolhendo digitos"
   ]
  },
  {
   "cell_type": "code",
   "execution_count": 3,
   "metadata": {},
   "outputs": [],
   "source": [
    "digits = 1, 0"
   ]
  },
  {
   "cell_type": "markdown",
   "metadata": {},
   "source": [
    "# Inicializando o modelo"
   ]
  },
  {
   "cell_type": "code",
   "execution_count": 4,
   "metadata": {},
   "outputs": [],
   "source": [
    "regression = LogisticRegression(x_train, \n",
    "                                x_test, \n",
    "                                y_train, \n",
    "                                y_test, \n",
    "                                digits, \n",
    "                                learning_rate=1e-3)"
   ]
  },
  {
   "cell_type": "markdown",
   "metadata": {},
   "source": [
    "# Treinando o modelo"
   ]
  },
  {
   "cell_type": "code",
   "execution_count": 5,
   "metadata": {},
   "outputs": [],
   "source": [
    "theta = regression.fit(stop=5)"
   ]
  },
  {
   "cell_type": "markdown",
   "metadata": {},
   "source": [
    "# Predicao do modelo"
   ]
  },
  {
   "cell_type": "code",
   "execution_count": 6,
   "metadata": {},
   "outputs": [],
   "source": [
    "pred = regression.predict(theta)"
   ]
  },
  {
   "cell_type": "markdown",
   "metadata": {},
   "source": [
    "# Acuracia para aquele par de digitos"
   ]
  },
  {
   "cell_type": "code",
   "execution_count": 7,
   "metadata": {
    "scrolled": true
   },
   "outputs": [
    {
     "name": "stdout",
     "output_type": "stream",
     "text": [
      "Acuracia do modelo  99.76% para os digitos: (1, 0)\n"
     ]
    }
   ],
   "source": [
    "acc, miss = regression.acc(pred)\n",
    "print(f'Acuracia do modelo {acc: 02.2f}% para os digitos: {regression.digits}')"
   ]
  },
  {
   "cell_type": "markdown",
   "metadata": {},
   "source": [
    "# Processando combinacao com todos os digitos"
   ]
  },
  {
   "cell_type": "code",
   "execution_count": null,
   "metadata": {},
   "outputs": [
    {
     "name": "stdout",
     "output_type": "stream",
     "text": [
      "Processing all combinations...\n"
     ]
    }
   ],
   "source": [
    "thetas = []\n",
    "accs = []\n",
    "pair = []\n",
    "\n",
    "print('Processing all combinations...')\n",
    "for digits in itertools.combinations('0123456789', 2):\n",
    "\n",
    "    regression.set_digits(digits=tuple(int(d) for d in digits))\n",
    "\n",
    "    theta = regression.fit(5)\n",
    "    y_hat = regression.predict(theta)\n",
    "    acc, _ = regression.acc(y_hat)\n",
    "    \n",
    "    thetas.append(theta)\n",
    "    accs.append(acc)\n",
    "    pair.append(digits)\n",
    "print('Finished.')"
   ]
  },
  {
   "cell_type": "markdown",
   "metadata": {},
   "source": [
    "# Definindo qual o melhor e o pior indice calculado anteriormente"
   ]
  },
  {
   "cell_type": "code",
   "execution_count": null,
   "metadata": {},
   "outputs": [],
   "source": [
    "max_i = 0\n",
    "min_i = 0\n",
    "for i in range(len(accs)):\n",
    "    if max(accs) == accs[i]:\n",
    "        max_i = i\n",
    "    if min(accs) == accs[i]:\n",
    "        min_i = i\n",
    "        \n",
    "print(f'Maiores valores \\n Acc={accs[max_i]} Digitos={pair[max_i]}') \n",
    "print(f'Menores valores \\n Acc={accs[min_i]} Digitos={pair[min_i]}')   "
   ]
  },
  {
   "cell_type": "markdown",
   "metadata": {},
   "source": [
    "# Autores\n",
    "- **Christiano Machado** @ https://github.com/chrismachado\n",
    "- **Vitor Veras** @ https://github.com/vitorverasm"
   ]
  }
 ],
 "metadata": {
  "kernelspec": {
   "display_name": "Python 3",
   "language": "python",
   "name": "python3"
  },
  "language_info": {
   "codemirror_mode": {
    "name": "ipython",
    "version": 3
   },
   "file_extension": ".py",
   "mimetype": "text/x-python",
   "name": "python",
   "nbconvert_exporter": "python",
   "pygments_lexer": "ipython3",
   "version": "3.8.2"
  }
 },
 "nbformat": 4,
 "nbformat_minor": 4
}

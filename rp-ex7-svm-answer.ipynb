{
 "cells": [
  {
   "cell_type": "code",
   "execution_count": 1,
   "metadata": {
    "id": "vuccdVq0ZLYD"
   },
   "outputs": [],
   "source": [
    "import torch\n",
    "import numpy as np\n",
    "import matplotlib.pyplot as plt\n",
    "\n",
    "from cvxopt import matrix as cvxopt_matrix\n",
    "from cvxopt import solvers as cvxopt_solvers\n",
    "\n",
    "N = 10\n",
    "target_points = 2*torch.rand(2, 2) - 1\n",
    "x_train = 2 * torch.rand(N, 2) - 1"
   ]
  },
  {
   "cell_type": "code",
   "execution_count": 2,
   "metadata": {
    "id": "wFLz0NAebEdV"
   },
   "outputs": [],
   "source": [
    "w_ideal = torch.zeros((2, 1))\n",
    "\n",
    "w_ideal[0, 0] = target_points[1, 1] - target_points[0, 1]\n",
    "w_ideal[1, 0] = -(target_points[1, 0] - target_points[0, 0])\n",
    "b_ideal = target_points[1, 0]*target_points[0, 1] - target_points[0, 0]*target_points[1, 1]"
   ]
  },
  {
   "cell_type": "code",
   "execution_count": 3,
   "metadata": {
    "id": "uvNrHQTZopTg"
   },
   "outputs": [],
   "source": [
    "x_test = 2 * torch.rand(1000, 2) - 1\n",
    "\n",
    "y_test = x_test @ w_ideal + b_ideal\n",
    "y_test[y_test > 0] = 1\n",
    "y_test[y_test <= 0] = -1\n",
    "\n",
    "y_train = x_train @ w_ideal + b_ideal # xwT + b\n",
    "y_train[y_train > 0] = 1\n",
    "y_train[y_train <= 0] = -1"
   ]
  },
  {
   "cell_type": "code",
   "execution_count": 4,
   "metadata": {
    "colab": {
     "base_uri": "https://localhost:8080/",
     "height": 282
    },
    "id": "pWzjlQSnV_4T",
    "outputId": "fae80e61-9d8c-48fe-98e9-1d47cc248161"
   },
   "outputs": [
    {
     "data": {
      "text/plain": [
       "<matplotlib.collections.PathCollection at 0x7fcdb40dfc40>"
      ]
     },
     "execution_count": 4,
     "metadata": {},
     "output_type": "execute_result"
    },
    {
     "data": {
      "image/png": "[encoded data removed]",
      "text/plain": [
       "<Figure size 432x288 with 1 Axes>"
      ]
     },
     "metadata": {
      "needs_background": "light"
     },
     "output_type": "display_data"
    }
   ],
   "source": [
    "xx, yy = torch.meshgrid([torch.arange(-1.0, 1.0, 0.01), torch.arange(-1.0, 1.0, 0.01)])\n",
    "full_square = torch.cat((xx.reshape(-1, 1), yy.reshape(-1, 1)), dim=1)\n",
    "\n",
    "y_test = full_square @ w_ideal + b_ideal\n",
    "y_test[y_test > 0] = 1\n",
    "y_test[y_test <= 0] = -1\n",
    "\n",
    "plt.contourf(xx, yy, y_test.reshape(xx.shape), cmap=plt.cm.terrain, alpha=0.8)\n",
    "plt.scatter(x_train[:,0],x_train[:,1], c = y_train, cmap=plt.cm.flag)"
   ]
  },
  {
   "cell_type": "code",
   "execution_count": 5,
   "metadata": {},
   "outputs": [],
   "source": [
    "m, n = x_train.shape\n",
    "y = y_train.reshape(-1,1) * 1.\n",
    "X_dash = y_train * x_train\n",
    "H = np.dot(X_dash , X_dash.T) * 1."
   ]
  },
  {
   "cell_type": "code",
   "execution_count": 6,
   "metadata": {
    "colab": {
     "base_uri": "https://localhost:8080/",
     "height": 327
    },
    "id": "lbmzEfqKZGuC",
    "outputId": "757f0bac-8a17-48bb-94fe-99e26142610c"
   },
   "outputs": [],
   "source": [
    "# H = X_dash @ X_dash.T\n",
    "H = H.astype(np.double)\n",
    "y = y.numpy().astype(np.double)"
   ]
  },
  {
   "cell_type": "code",
   "execution_count": 7,
   "metadata": {},
   "outputs": [],
   "source": [
    "P = cvxopt_matrix(H)\n",
    "q = cvxopt_matrix(-np.ones((m, 1)))\n",
    "G = cvxopt_matrix(-np.eye(m))\n",
    "h = cvxopt_matrix(np.zeros(m))\n",
    "A = cvxopt_matrix(y.reshape(1, -1))\n",
    "b = cvxopt_matrix(np.zeros(1))"
   ]
  },
  {
   "cell_type": "code",
   "execution_count": 8,
   "metadata": {},
   "outputs": [],
   "source": [
    "cvxopt_solvers.options['show_progress'] = True\n",
    "cvxopt_solvers.options['abstol'] = 1e-10\n",
    "cvxopt_solvers.options['reltol'] = 1e-10\n",
    "cvxopt_solvers.options['feastol'] = 1e-10"
   ]
  },
  {
   "cell_type": "code",
   "execution_count": 9,
   "metadata": {},
   "outputs": [
    {
     "name": "stdout",
     "output_type": "stream",
     "text": [
      "     pcost       dcost       gap    pres   dres\n",
      " 0: -4.9952e+00 -1.1851e+01  3e+01  4e+00  2e+00\n",
      " 1: -1.3758e+01 -1.6948e+01  7e+00  1e+00  7e-01\n",
      " 2: -2.5450e+01 -3.1072e+01  1e+01  1e+00  5e-01\n",
      " 3: -2.8475e+01 -2.9789e+01  2e+00  6e-02  3e-02\n",
      " 4: -2.8731e+01 -2.8883e+01  2e-01  6e-03  3e-03\n",
      " 5: -2.8834e+01 -2.8837e+01  3e-03  9e-05  4e-05\n",
      " 6: -2.8836e+01 -2.8836e+01  3e-05  9e-07  4e-07\n",
      " 7: -2.8836e+01 -2.8836e+01  3e-07  9e-09  4e-09\n",
      " 8: -2.8836e+01 -2.8836e+01  3e-09  9e-11  4e-11\n",
      " 9: -2.8836e+01 -2.8836e+01  3e-11  9e-13  4e-13\n",
      "Optimal solution found.\n"
     ]
    }
   ],
   "source": [
    "sol = cvxopt_solvers.qp(P, q, G, h, A, b)\n",
    "alphas = np.array(sol['x'])"
   ]
  },
  {
   "cell_type": "code",
   "execution_count": 10,
   "metadata": {},
   "outputs": [],
   "source": [
    "w = ((y * alphas).T @ x_train.numpy()).reshape(-1,1)\n",
    "S = (alphas > 1e-4).flatten()\n",
    "b = y[S] - np.dot(x_train[S], w)"
   ]
  },
  {
   "cell_type": "code",
   "execution_count": 11,
   "metadata": {},
   "outputs": [
    {
     "name": "stdout",
     "output_type": "stream",
     "text": [
      "Alphas = [10.04082925 18.79487301 28.83570225]\n",
      "w = [-5.89295733 -4.79003742]\n",
      "b = [-1.98439414]\n"
     ]
    }
   ],
   "source": [
    "print(f'Alphas = {alphas[alphas > 1e-4]}')\n",
    "print(f'w = {w.flatten()}')\n",
    "print(f'b = {b[0]}')"
   ]
  }
 ],
 "metadata": {
  "colab": {
   "name": "SVM.ipynb",
   "provenance": []
  },
  "kernelspec": {
   "display_name": "Python 3",
   "language": "python",
   "name": "python3"
  },
  "language_info": {
   "codemirror_mode": {
    "name": "ipython",
    "version": 3
   },
   "file_extension": ".py",
   "mimetype": "text/x-python",
   "name": "python",
   "nbconvert_exporter": "python",
   "pygments_lexer": "ipython3",
   "version": "3.8.5"
  }
 },
 "nbformat": 4,
 "nbformat_minor": 1
}

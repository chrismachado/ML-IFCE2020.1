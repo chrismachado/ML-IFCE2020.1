{
 "cells": [
  {
   "cell_type": "markdown",
   "metadata": {},
   "source": [
    "# Breve descrição sobre o Boston Housing Dataset\n",
    "\n",
    "O dataset possui 506 linhas com 14 colunas de dados. Seu principal objetivo é descrever sobre a vizinhança da cidade de Boston, nos Estados Unidos. Seus atributos são:\n",
    "\n",
    "- CRIM: Taxa de criminalidade da cidade;\n",
    "- ZN: Proporção de terrenos residenciais zoneados para lotes com mais de 25 mil pés quadrados;\n",
    "- INDUS: Proporção de negócios não-varejistas ao redor da cidade;\n",
    "- CHAS: Modelo variável de Charlies River;\n",
    "- NOX: Concentração de óxidos nítricos (por 10 milhões);\n",
    "- RM: Número médio de quartos por habitação;\n",
    "- AGE: Proporção ocupação de casas construídas antes de 1940;\n",
    "- DIS: Distâncias ponderadas de cinco centros empregatícios de Boston;\n",
    "- RAD: Índice de acessibilidade a rodovias radiais;\n",
    "- TAX: Taxa de imposto de propriedade por \\$10.000;\n",
    "- PTRATIO: Proporção aluno-professor por cidade;\n",
    "- B: 1000 (Bk - 0,63) ^ 2 onde Bk é a proporção de negros por cidade;\n",
    "- LSTAT: % população de classe baixa;\n",
    "- MEDV:  Valor médio das casas ocupadas em $ 1.000."
   ]
  },
  {
   "cell_type": "markdown",
   "metadata": {},
   "source": [
    "# Importando pacotes importantes"
   ]
  },
  {
   "cell_type": "code",
   "execution_count": 1,
   "metadata": {},
   "outputs": [],
   "source": [
    "import torch\n",
    "import matplotlib.pyplot as plt\n",
    "\n",
    "from nn.regression import Regression\n",
    "from sklearn.datasets import load_boston\n",
    "from sklearn.metrics import mean_squared_error"
   ]
  },
  {
   "cell_type": "markdown",
   "metadata": {},
   "source": [
    "# Coletando base de dados"
   ]
  },
  {
   "cell_type": "code",
   "execution_count": 2,
   "metadata": {},
   "outputs": [],
   "source": [
    "x, y = load_boston(return_X_y=True)"
   ]
  },
  {
   "cell_type": "markdown",
   "metadata": {},
   "source": [
    "## Calculando os theta's com 80% da base"
   ]
  },
  {
   "cell_type": "code",
   "execution_count": 3,
   "metadata": {},
   "outputs": [
    {
     "name": "stdout",
     "output_type": "stream",
     "text": [
      "Valores do vetor theta = tensor([ 3.0077e+01, -2.0214e-01,  4.4128e-02,  5.2674e-02,  1.8847e+00,\n",
      "        -1.4928e+01,  4.7604e+00,  2.8873e-03, -1.3003e+00,  4.6166e-01,\n",
      "        -1.5543e-02, -8.1163e-01, -1.9717e-03, -5.3227e-01],\n",
      "       dtype=torch.float64)\n"
     ]
    }
   ],
   "source": [
    "regression = Regression(x, y, size=0.8, ones=True)\n",
    "\n",
    "# torch.inverse(x.T @ x) @ x.T @ y\n",
    "thetas = regression.fit()\n",
    "print(f\"Valores do vetor theta = {thetas}\")"
   ]
  },
  {
   "cell_type": "markdown",
   "metadata": {},
   "source": [
    "## Calculando o RMSE o resto da base (20%)"
   ]
  },
  {
   "cell_type": "code",
   "execution_count": 8,
   "metadata": {
    "scrolled": false
   },
   "outputs": [
    {
     "name": "stdout",
     "output_type": "stream",
     "text": [
      "Train RMSE 4.77267006211416\n",
      "----------------------------------\n",
      "Test RMSE 5.727116436760301\n"
     ]
    }
   ],
   "source": [
    "y_pred = regression.predict(thetas, regression.x_train)\n",
    "rmse = regression.rmse(y_pred, regression.y_train)\n",
    "print(f\"Train RMSE {rmse}\")\n",
    "\n",
    "print(\"----------------------------------\")\n",
    "\n",
    "y_pred = regression.predict(thetas)\n",
    "rmse = regression.rmse(y_pred)\n",
    "print(f\"Test RMSE {rmse}\")"
   ]
  },
  {
   "cell_type": "markdown",
   "metadata": {},
   "source": [
    "# Autores\n",
    "\n",
    "    Christiano Machado @ https://github.com/chrismachado\n",
    "    Vitor Veras @ https://github.com/vitorverasm\n",
    "\n"
   ]
  }
 ],
 "metadata": {
  "kernelspec": {
   "display_name": "Python 3",
   "language": "python",
   "name": "python3"
  },
  "language_info": {
   "codemirror_mode": {
    "name": "ipython",
    "version": 3
   },
   "file_extension": ".py",
   "mimetype": "text/x-python",
   "name": "python",
   "nbconvert_exporter": "python",
   "pygments_lexer": "ipython3",
   "version": "3.8.2"
  }
 },
 "nbformat": 4,
 "nbformat_minor": 4
}

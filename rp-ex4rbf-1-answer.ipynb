{
 "cells": [
  {
   "cell_type": "markdown",
   "metadata": {},
   "source": [
    "# Importando elementos importantes"
   ]
  },
  {
   "cell_type": "code",
   "execution_count": 1,
   "metadata": {},
   "outputs": [],
   "source": [
    "import torch\n",
    "import matplotlib.pyplot as plt\n",
    "import itertools\n",
    "\n",
    "from nn.rbf import RBF\n",
    "from sklearn.datasets import load_boston\n",
    "from sklearn.metrics import mean_squared_error"
   ]
  },
  {
   "cell_type": "markdown",
   "metadata": {},
   "source": [
    "# Carregando a base Boston Housing e Inicializando a RBF"
   ]
  },
  {
   "cell_type": "code",
   "execution_count": 2,
   "metadata": {},
   "outputs": [],
   "source": [
    "x, y = load_boston(return_X_y=True)\n",
    "rbf = RBF(x=x, y=y, c=5, gamma=1e-3)"
   ]
  },
  {
   "cell_type": "markdown",
   "metadata": {},
   "source": [
    "# Treinamento com 80% das amostras (1a)"
   ]
  },
  {
   "cell_type": "code",
   "execution_count": 3,
   "metadata": {
    "scrolled": true
   },
   "outputs": [],
   "source": [
    "thetas = rbf.fit()\n",
    "y_pred = rbf.predict(thetas=thetas)"
   ]
  },
  {
   "cell_type": "markdown",
   "metadata": {},
   "source": [
    "# Erro quadratico medio"
   ]
  },
  {
   "cell_type": "code",
   "execution_count": 4,
   "metadata": {},
   "outputs": [
    {
     "data": {
      "text/plain": [
       "8.836027564196336"
      ]
     },
     "execution_count": 4,
     "metadata": {},
     "output_type": "execute_result"
    }
   ],
   "source": [
    "rbf.rmse(y_pred=y_pred).item()"
   ]
  },
  {
   "cell_type": "markdown",
   "metadata": {},
   "source": [
    "# Definindo variacoes para o numero de centroides e para o gamma"
   ]
  },
  {
   "cell_type": "code",
   "execution_count": 5,
   "metadata": {},
   "outputs": [],
   "source": [
    "cvalues = [c for c in range(3, 9)]\n",
    "gvalues = [10**-g for g in range(1, 7)]"
   ]
  },
  {
   "cell_type": "code",
   "execution_count": 9,
   "metadata": {},
   "outputs": [
    {
     "name": "stdout",
     "output_type": "stream",
     "text": [
      "| c = 03 | gamma = 0.100000 | RMSE = 09.6938 | c = 03 | gamma = 0.010000 | RMSE = 09.9582 |\n",
      "| c = 03 | gamma = 0.001000 | RMSE = 13.7807 | c = 03 | gamma = 0.000100 | RMSE = 12.1678 |\n",
      "| c = 03 | gamma = 0.000010 | RMSE = 10.0535 | c = 03 | gamma = 0.000001 | RMSE = 08.6790 |\n",
      "| c = 04 | gamma = 0.100000 | RMSE = 13.1454 | c = 04 | gamma = 0.010000 | RMSE = 10.5015 |\n",
      "| c = 04 | gamma = 0.001000 | RMSE = 09.4167 | c = 04 | gamma = 0.000100 | RMSE = 23.0296 |\n",
      "| c = 04 | gamma = 0.000010 | RMSE = 11.5323 | c = 04 | gamma = 0.000001 | RMSE = 11.7588 |\n",
      "| c = 05 | gamma = 0.100000 | RMSE = 09.7619 | c = 05 | gamma = 0.010000 | RMSE = 09.7412 |\n",
      "| c = 05 | gamma = 0.001000 | RMSE = 16.0636 | c = 05 | gamma = 0.000100 | RMSE = 10.2887 |\n",
      "| c = 05 | gamma = 0.000010 | RMSE = 52.8315 | c = 05 | gamma = 0.000001 | RMSE = 11.1507 |\n",
      "| c = 06 | gamma = 0.100000 | RMSE = 10.7105 | c = 06 | gamma = 0.010000 | RMSE = 23.4404 |\n",
      "| c = 06 | gamma = 0.001000 | RMSE = 08.8299 | c = 06 | gamma = 0.000100 | RMSE = 09.9907 |\n",
      "| c = 06 | gamma = 0.000010 | RMSE = 17.1574 | c = 06 | gamma = 0.000001 | RMSE = 19.7484 |\n",
      "| c = 07 | gamma = 0.100000 | RMSE = 10.4071 | c = 07 | gamma = 0.010000 | RMSE = 20.5673 |\n",
      "| c = 07 | gamma = 0.001000 | RMSE = 08.7139 | c = 07 | gamma = 0.000100 | RMSE = 14.5793 |\n",
      "| c = 07 | gamma = 0.000010 | RMSE = 11.9486 | c = 07 | gamma = 0.000001 | RMSE = 09.3113 |\n",
      "| c = 08 | gamma = 0.100000 | RMSE = 15.2205 | c = 08 | gamma = 0.010000 | RMSE = 09.8783 |\n",
      "| c = 08 | gamma = 0.001000 | RMSE = 09.7297 | c = 08 | gamma = 0.000100 | RMSE = 09.0812 |\n",
      "| c = 08 | gamma = 0.000010 | RMSE = 14.0801 | c = 08 | gamma = 0.000001 | RMSE = 16.1615 |\n"
     ]
    }
   ],
   "source": [
    "count = 0\n",
    "for c, g in itertools.product(cvalues, gvalues):\n",
    "    separator = '' if (count % 2) == 0 else '|\\n'\n",
    "    rbf.set_params(c=c, gamma=g, x=rbf.x_train)\n",
    "    thetas = rbf.fit()\n",
    "    y_pred = rbf.predict(thetas=thetas)\n",
    "    rmse = rbf.rmse(y_pred=y_pred).item()\n",
    "    print(f'| c = {c:02d} | gamma = {g:.6f} | RMSE = {rmse:07.4f} ', end=separator)\n",
    "    count+=1\n"
   ]
  },
  {
   "cell_type": "markdown",
   "metadata": {},
   "source": [
    "# Conclusão\n",
    "A definição de centróides para este problema é de suma relevância. Caso os valores escolhidos não sejam valores adequados, o modelo pode convergir para outro problema e caso haja centróides de mais, o modelo pode simplesmente se adaptar de mais (overfitting). Em comparação com o modelo linear feito no exercício anterior, este modelo se sai melhor quando tem seus parâmetros bem ajustados, pois sua conversão é mais rápida e mais precisa. (1b)\n",
    "\n",
    "Acima podemos ver diversos testes com variações nos valores de C e de GAMMA. O melhor valor obtido foi c=3, gamma=1e-6.\n",
    "\n",
    "# Autores\n",
    "- **Christiano Machado** @ https://github.com/chrismachado\n",
    "- **Vitor Veras** @ https://github.com/vitorverasm"
   ]
  }
 ],
 "metadata": {
  "kernelspec": {
   "display_name": "Python 3",
   "language": "python",
   "name": "python3"
  },
  "language_info": {
   "codemirror_mode": {
    "name": "ipython",
    "version": 3
   },
   "file_extension": ".py",
   "mimetype": "text/x-python",
   "name": "python",
   "nbconvert_exporter": "python",
   "pygments_lexer": "ipython3",
   "version": "3.8.2"
  }
 },
 "nbformat": 4,
 "nbformat_minor": 4
}
